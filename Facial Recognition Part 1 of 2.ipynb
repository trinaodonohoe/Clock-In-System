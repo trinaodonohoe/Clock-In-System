{
 "cells": [
  {
   "cell_type": "code",
   "execution_count": 1,
   "id": "eef08917",
   "metadata": {
    "scrolled": true
   },
   "outputs": [],
   "source": [
    "import cv2\n",
    "import face_recognition\n",
    "import numpy as np\n",
    "import os\n",
    "from datetime import datetime"
   ]
  },
  {
   "cell_type": "code",
   "execution_count": 2,
   "id": "bcd0a311",
   "metadata": {},
   "outputs": [
    {
     "name": "stdout",
     "output_type": "stream",
     "text": [
      "['Ciara.jpeg', 'Batuhan.jpeg', '.DS_Store', 'Caitriona.jpeg', 'Beyonce.jpeg', 'Rihanna.jpeg', '.ipynb_checkpoints', 'Gabby.jpeg']\n"
     ]
    }
   ],
   "source": [
    "path = 'FaceImages'\n",
    "images = []\n",
    "classNames = []\n",
    "myList = os.listdir(path)\n",
    "print(myList)"
   ]
  },
  {
   "cell_type": "code",
   "execution_count": 3,
   "id": "8ee10540",
   "metadata": {},
   "outputs": [
    {
     "name": "stdout",
     "output_type": "stream",
     "text": [
      "Failed to load image: .DS_Store\n",
      "Failed to load image: .ipynb_checkpoints\n",
      "['Ciara', 'Batuhan', 'Caitriona', 'Beyonce', 'Rihanna', 'Gabby']\n"
     ]
    }
   ],
   "source": [
    "for cls in myList:\n",
    "    img = cv2.imread(f'{path}/{cls}')\n",
    "\n",
    "    if img is None:\n",
    "        print(f\"Failed to load image: {cls}\")\n",
    "        continue\n",
    "    \n",
    "    images.append(img)\n",
    "    classNames.append(os.path.splitext(cls)[0])\n",
    "print(classNames)"
   ]
  },
  {
   "cell_type": "code",
   "execution_count": 4,
   "id": "326f96a6",
   "metadata": {},
   "outputs": [
    {
     "name": "stdout",
     "output_type": "stream",
     "text": [
      "Encoding done.\n"
     ]
    }
   ],
   "source": [
    "def findEncodings(images):\n",
    "    encodeList = []\n",
    "    for img in images:\n",
    "        img = cv2.cvtColor(img, cv2.COLOR_BGR2RGB)\n",
    "        \n",
    "        if img is None:\n",
    "            print(\"Empty image detected, skipping...\")\n",
    "            continue\n",
    "        \n",
    "        encode = face_recognition.face_encodings(img)[0]\n",
    "        encodeList.append(encode)\n",
    "    return encodeList\n",
    "\n",
    "encodeListKnown = findEncodings(images)\n",
    "print('Encoding done.')"
   ]
  },
  {
   "cell_type": "code",
   "execution_count": 5,
   "id": "164d5401",
   "metadata": {},
   "outputs": [],
   "source": [
    "def markClockIn(name):\n",
    "    with open('Clock_In_Sheet.csv', 'r+') as f:\n",
    "        myDataList = f.readlines()\n",
    "        nameList = []\n",
    "        for line in myDataList:\n",
    "            entry = line.split(',')\n",
    "            nameList.append(entry[0])\n",
    "            \n",
    "        if name not in nameList:\n",
    "            now = datetime.now()\n",
    "            dtString = now.strftime('%H:%M:%S')\n",
    "            f.writelines(f'\\n{name}, {dtString}')"
   ]
  },
  {
   "cell_type": "code",
   "execution_count": 6,
   "id": "c93e7cbf",
   "metadata": {},
   "outputs": [],
   "source": [
    "cap = cv2.VideoCapture(0)"
   ]
  },
  {
   "cell_type": "code",
   "execution_count": 7,
   "id": "59e0b320",
   "metadata": {},
   "outputs": [],
   "source": [
    "import time\n",
    "\n",
    "timeout = time.time() + 10  \n",
    "\n",
    "while True:\n",
    "    success, img = cap.read()\n",
    "    if not success:\n",
    "        break\n",
    "    \n",
    "    small_img = cv2.resize(img, (0, 0), None, 0.25, 0.25)\n",
    "    small_img = cv2.cvtColor(small_img, cv2.COLOR_BGR2RGB)\n",
    "  \n",
    "    face_locations = face_recognition.face_locations(small_img)\n",
    "\n",
    "    face_locations = [(top*4, right*4, bottom*4, left*4) for (top, right, bottom, left) in face_locations]\n",
    "    \n",
    "    encodeCurFrame = face_recognition.face_encodings(img, face_locations)\n",
    "    \n",
    "    for encodeFace, faceLoc in zip(encodeCurFrame, face_locations):\n",
    "        matches = face_recognition.compare_faces(encodeListKnown, encodeFace)\n",
    "        faceDis = face_recognition.face_distance(encodeListKnown, encodeFace)\n",
    "        \n",
    "        matchIndex = np.argmin(faceDis)\n",
    "        \n",
    "        if matches[matchIndex]:\n",
    "            name = classNames[matchIndex].upper()\n",
    "            y1, x2, y2, x1 = faceLoc\n",
    "            cv2.rectangle(img, (x1, y1), (x2, y2), (0, 255, 0), 2)\n",
    "            cv2.rectangle(img, (x1, y2 - 35), (x2, y2), (0, 255, 0), cv2.FILLED)\n",
    "            cv2.putText(img, name, (x1 + 6, y2 - 6), cv2.FONT_HERSHEY_COMPLEX, 1, (255, 255, 255), 2)\n",
    "            \n",
    "            markClockIn(name)\n",
    "    \n",
    "    cv2.imshow('Webcam', img)\n",
    "    \n",
    "    if cv2.waitKey(1) & 0xFF == ord('q') or time.time() > timeout:\n",
    "        break\n",
    "\n",
    "cap.release()\n",
    "cv2.destroyAllWindows()"
   ]
  },
  {
   "cell_type": "code",
   "execution_count": null,
   "id": "81b38f61",
   "metadata": {},
   "outputs": [],
   "source": []
  }
 ],
 "metadata": {
  "kernelspec": {
   "display_name": "Python 3 (ipykernel)",
   "language": "python",
   "name": "python3"
  },
  "language_info": {
   "codemirror_mode": {
    "name": "ipython",
    "version": 3
   },
   "file_extension": ".py",
   "mimetype": "text/x-python",
   "name": "python",
   "nbconvert_exporter": "python",
   "pygments_lexer": "ipython3",
   "version": "3.10.9"
  }
 },
 "nbformat": 4,
 "nbformat_minor": 5
}
